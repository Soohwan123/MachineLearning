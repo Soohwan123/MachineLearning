{
 "cells": [
  {
   "cell_type": "code",
   "execution_count": 2,
   "id": "1ed9fcca",
   "metadata": {},
   "outputs": [],
   "source": [
    "# /*선형회귀 1차강의*/"
   ]
  },
  {
   "cell_type": "code",
   "execution_count": 4,
   "id": "a7fc53aa",
   "metadata": {},
   "outputs": [],
   "source": [
    "#  (예측 값 -실제 값 )^2 의 평균 -> 비용함수. "
   ]
  },
  {
   "cell_type": "code",
   "execution_count": 5,
   "id": "768eb998",
   "metadata": {},
   "outputs": [],
   "source": [
    "# 비용(cost) -> 예측과 실제가 얼마나 다른지, 검증하는 것."
   ]
  },
  {
   "cell_type": "code",
   "execution_count": 7,
   "id": "7624e2c7",
   "metadata": {},
   "outputs": [],
   "source": [
    "#  경사 하강을 이용해 합리적인 식을 도출"
   ]
  },
  {
   "cell_type": "code",
   "execution_count": 8,
   "id": "5ff8228b",
   "metadata": {},
   "outputs": [],
   "source": [
    "# H(x) = Wx 로 식을 간단히 한다. 따라서 비용함수는 (Wx-y)^2 을 따른다."
   ]
  },
  {
   "cell_type": "code",
   "execution_count": 9,
   "id": "e2f5b631",
   "metadata": {},
   "outputs": [],
   "source": [
    "# 임의의 W 값을 찍고 미분 후 기울기값을 구했을때 0에 가까울 수록 좋은 식을 구한것 !"
   ]
  },
  {
   "cell_type": "code",
   "execution_count": 11,
   "id": "4716dd84",
   "metadata": {},
   "outputs": [],
   "source": [
    "# 핵심"
   ]
  },
  {
   "cell_type": "code",
   "execution_count": 13,
   "id": "183eefea",
   "metadata": {},
   "outputs": [],
   "source": [
    "# 점프를 얼마나 뛰어야할까?"
   ]
  },
  {
   "cell_type": "code",
   "execution_count": 15,
   "id": "f0a73e78",
   "metadata": {},
   "outputs": [],
   "source": [
    "# 곡선의 특성상 초반에 많은 폭으로 변화합니다."
   ]
  },
  {
   "cell_type": "code",
   "execution_count": 16,
   "id": "2183a305",
   "metadata": {},
   "outputs": [],
   "source": [
    "# 너무 작게 점프하면 폭이 변화가 미미하다"
   ]
  },
  {
   "cell_type": "code",
   "execution_count": null,
   "id": "8bbb8a19",
   "metadata": {},
   "outputs": [],
   "source": [
    "# 너무 크게할시엔 이차함수의 오른쪽으로 빠지며 여기저기 점프 할 수도 있다."
   ]
  }
 ],
 "metadata": {
  "kernelspec": {
   "display_name": "Python 3",
   "language": "python",
   "name": "python3"
  },
  "language_info": {
   "codemirror_mode": {
    "name": "ipython",
    "version": 3
   },
   "file_extension": ".py",
   "mimetype": "text/x-python",
   "name": "python",
   "nbconvert_exporter": "python",
   "pygments_lexer": "ipython3",
   "version": "3.8.8"
  }
 },
 "nbformat": 4,
 "nbformat_minor": 5
}
